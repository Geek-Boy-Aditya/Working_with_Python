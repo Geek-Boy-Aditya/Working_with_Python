{
 "cells": [
  {
   "cell_type": "markdown",
   "metadata": {},
   "source": [
    "# Python Language Introduction"
   ]
  },
  {
   "cell_type": "markdown",
   "metadata": {},
   "source": [
    "Python is a widely used general-purpose, high level programming language. It was created by Guido van Rossum in 1991 and further developed by the Python Software Foundation. It was designed with an emphasis on code readability, and its syntax allows programmers to express their concepts in fewer lines of code.\n",
    "\n",
    "Python is a programming language that lets you work quickly and integrate systems more efficiently.\n",
    "\n",
    "There are two major Python versions: Python 2 and Python 3. Both are quite different."
   ]
  },
  {
   "cell_type": "markdown",
   "metadata": {},
   "source": [
    "## Beginning with Python programming:\n",
    "\n",
    "### Finding an Interpreter:\n",
    " \n",
    " Before we start Python programming, we need to have an interpreter to interpret and run our programs. \n",
    " \n",
    "### Windows: \n",
    "There are many interpreters available freely to run Python scripts like IDLE (Integrated Development Environment) that comes bundled with the Python software downloaded from http://python.org/.\n",
    "\n",
    "### Linux: \n",
    "\n",
    "Python comes preinstalled with popular Linux distros such as Ubuntu and Fedora. To check which version of Python you’re running, type “python” in the terminal emulator. The interpreter should start and print the version number.\n",
    "\n",
    "### macOS: \n",
    "\n",
    "Generally, Python 2.7 comes bundled with macOS. You’ll have to manually install Python 3 from http://python.org/."
   ]
  },
  {
   "cell_type": "markdown",
   "metadata": {},
   "source": [
    "## Python 3 basics"
   ]
  },
  {
   "cell_type": "markdown",
   "metadata": {},
   "source": [
    "Python was developed by Guido van Rossum in the early 1990s and its latest version is 3.7.1, we can simply call it as Python3. Python 3.0 was released in 2008. and is interpreted language i.e it’s not compiled and the interpreter will check the code line by line."
   ]
  },
  {
   "cell_type": "markdown",
   "metadata": {},
   "source": [
    "So before moving on further.. let’s do the most popular ‘HelloWorld’ tradition 😛 and hence compare Python’s Syntax with C, C++, Java ( I have taken these 3 because they are most famous and mostly used languages)."
   ]
  },
  {
   "cell_type": "code",
   "execution_count": 1,
   "metadata": {},
   "outputs": [
    {
     "name": "stdout",
     "output_type": "stream",
     "text": [
      "Hello World\n"
     ]
    }
   ],
   "source": [
    "# Python code for \"Hello World\" \n",
    "# nothing else to type...see how simple is the syntax. \n",
    "  \n",
    "print(\"Hello World\") "
   ]
  },
  {
   "cell_type": "markdown",
   "metadata": {},
   "source": [
    " Please note that Python for its scope doesn’t depend on the braces ( { } ), instead it uses indentation for its scope."
   ]
  },
  {
   "cell_type": "markdown",
   "metadata": {},
   "source": [
    "#### Note: \n",
    "Please note that Python for its scope doesn’t depend on the braces ( { } ), instead it uses indentation for its scope.\n",
    "Now moving on further Lets start our basics of Python . I will be covering the basics in some small sections. Just go through them and trust me you’ll learn the basics of Python very easily."
   ]
  },
  {
   "cell_type": "markdown",
   "metadata": {},
   "source": [
    "##  Introduction and Setup"
   ]
  },
  {
   "cell_type": "markdown",
   "metadata": {},
   "source": [
    "### 1. Windows\n",
    "\n",
    "If you are on Windows OS download Python by Clicking here and now install from the setup and in the start menu type IDLE.IDLE, you can think it as an Python’s IDE to run the Python Scripts.\n",
    "It will look somehow this :\n",
    "\n",
    "\n",
    "![](first.png)"
   ]
  },
  {
   "cell_type": "markdown",
   "metadata": {},
   "source": [
    "### 2. Linux\n",
    "\n",
    "\n",
    "If you are on Linux/Unix-like just open the terminal and on 99% linux OS Python comes preinstalled with the OS.Just type ‘python3’ in terminal and you are ready to go.\n",
    "It will look like this :\n",
    "\n",
    "![](second.png)"
   ]
  },
  {
   "cell_type": "markdown",
   "metadata": {},
   "source": [
    "## Variables and Data Structures\n",
    "\n",
    "In other programming languages like C, C++, and Java, you will need to declare the type of variables but in Python you don’t need to do that. Just type in the variable and when values will be given to it, then it will automatically know whether the value given would be an int, float, or char or even a String.\n",
    "\n"
   ]
  },
  {
   "cell_type": "code",
   "execution_count": 2,
   "metadata": {},
   "outputs": [
    {
     "name": "stdout",
     "output_type": "stream",
     "text": [
      "3\n",
      "4.5\n",
      "helloworld\n"
     ]
    }
   ],
   "source": [
    "# Python program to declare variables \n",
    "myNumber = 3\n",
    "print(myNumber) \n",
    "  \n",
    "myNumber2 = 4.5\n",
    "print(myNumber2) \n",
    "  \n",
    "myNumber =\"helloworld\"\n",
    "print(myNumber) "
   ]
  },
  {
   "cell_type": "markdown",
   "metadata": {},
   "source": [
    "See, how simple is it, just create a variable and assign it any value you want and then use the print function to print it. Python have 4 types of built in Data Structures namely List, Dictionary, Tuple and Set."
   ]
  },
  {
   "cell_type": "markdown",
   "metadata": {},
   "source": [
    "### List\n",
    "is the most basic Data Structure in python. List is a mutable data structure i.e items can be added to list later after the list creation. It’s like you are going to shop at the local market and made a list of some items and later on you can add more and more items to the list.\n",
    "append() function is used to add data to the list."
   ]
  },
  {
   "cell_type": "code",
   "execution_count": 3,
   "metadata": {},
   "outputs": [
    {
     "name": "stdout",
     "output_type": "stream",
     "text": [
      "[21, 40.5, 'String']\n"
     ]
    }
   ],
   "source": [
    "# Python program to illustrate a list  \n",
    "  \n",
    "# creates a empty list \n",
    "nums = []  \n",
    "  \n",
    "# appending data in list \n",
    "nums.append(21) \n",
    "nums.append(40.5) \n",
    "nums.append(\"String\") \n",
    "  \n",
    "print(nums) "
   ]
  },
  {
   "cell_type": "markdown",
   "metadata": {},
   "source": [
    "In this section, we will learn how to take input from the user and hence manipulate it or simply display it. input() function is used to take input from the user.\n"
   ]
  },
  {
   "cell_type": "code",
   "execution_count": 4,
   "metadata": {},
   "outputs": [
    {
     "name": "stdout",
     "output_type": "stream",
     "text": [
      "Enter your name: Aditya \n",
      "hello Aditya \n"
     ]
    }
   ],
   "source": [
    "# Python program to illustrate \n",
    "# getting input from user \n",
    "name = input(\"Enter your name: \")  \n",
    "  \n",
    "# user entered the name 'harssh' \n",
    "print(\"hello\", name) "
   ]
  },
  {
   "cell_type": "code",
   "execution_count": 5,
   "metadata": {},
   "outputs": [
    {
     "name": "stdout",
     "output_type": "stream",
     "text": [
      "Enter num1: 5\n",
      "Enter num2: 5\n",
      "Product is:  25\n"
     ]
    }
   ],
   "source": [
    "# Python3 program to get input from user \n",
    "  \n",
    "# accepting integer from the user \n",
    "# the return type of input() function is string , \n",
    "# so we need to convert the input to integer \n",
    "num1 = int(input(\"Enter num1: \")) \n",
    "num2 = int(input(\"Enter num2: \")) \n",
    "  \n",
    "num3 = num1 * num2 \n",
    "print(\"Product is: \", num3) "
   ]
  },
  {
   "cell_type": "markdown",
   "metadata": {},
   "source": [
    "### Selection\n",
    "\n",
    "Selection in Python is made using the two keywords ‘if’ and ‘elif’ and else (elseif)"
   ]
  },
  {
   "cell_type": "code",
   "execution_count": 6,
   "metadata": {},
   "outputs": [
    {
     "name": "stdout",
     "output_type": "stream",
     "text": [
      "Num1 is good\n"
     ]
    }
   ],
   "source": [
    "# Python program to illustrate \n",
    "# selection statement \n",
    "  \n",
    "num1 = 34\n",
    "if(num1>12): \n",
    "    print(\"Num1 is good\") \n",
    "elif(num1>35): \n",
    "    print(\"Num2 is not gooooo....\") \n",
    "else: \n",
    "    print(\"Num2 is great\") "
   ]
  },
  {
   "cell_type": "markdown",
   "metadata": {},
   "source": [
    "### Functions\n",
    "\n",
    "You can think of functions like a bunch of code that is intended to do a particular task in the whole Python script. Python used the keyword ‘def’ to define a function.\n",
    "Syntax:"
   ]
  },
  {
   "cell_type": "code",
   "execution_count": 7,
   "metadata": {},
   "outputs": [
    {
     "name": "stdout",
     "output_type": "stream",
     "text": [
      "hello\n",
      "hello again\n",
      "hello\n",
      "hello again\n"
     ]
    }
   ],
   "source": [
    "# Python program to illustrate \n",
    "# functions \n",
    "def hello(): \n",
    "    print(\"hello\") \n",
    "    print(\"hello again\") \n",
    "hello() \n",
    "  \n",
    "# calling function \n",
    "hello()          "
   ]
  },
  {
   "cell_type": "markdown",
   "metadata": {},
   "source": [
    "Now as we know any program starts from a ‘main’ function…lets create a main function like in many other programming languages.\n",
    "\n"
   ]
  },
  {
   "cell_type": "code",
   "execution_count": 8,
   "metadata": {},
   "outputs": [
    {
     "name": "stdout",
     "output_type": "stream",
     "text": [
      "Started\n",
      "Enter integer: 5\n",
      "5\n"
     ]
    }
   ],
   "source": [
    "# Python program to illustrate  \n",
    "# function with main \n",
    "def getInteger(): \n",
    "    result = int(input(\"Enter integer: \")) \n",
    "    return result \n",
    "  \n",
    "def Main(): \n",
    "    print(\"Started\") \n",
    "  \n",
    "    # calling the getInteger function and  \n",
    "    # storing its returned value in the output variable \n",
    "    output = getInteger()      \n",
    "    print(output) \n",
    "  \n",
    "# now we are required to tell Python  \n",
    "# for 'Main' function existence \n",
    "if __name__==\"__main__\": \n",
    "    Main() "
   ]
  },
  {
   "cell_type": "markdown",
   "metadata": {},
   "source": [
    "### Iteration (Looping)\n",
    "\n",
    "As the name suggests it calls repeating things again and again. We will use the most popular ‘for’ loop here."
   ]
  },
  {
   "cell_type": "code",
   "execution_count": 9,
   "metadata": {},
   "outputs": [
    {
     "name": "stdout",
     "output_type": "stream",
     "text": [
      "0\n",
      "1\n",
      "2\n",
      "3\n",
      "4\n"
     ]
    }
   ],
   "source": [
    "# Python program to illustrate \n",
    "# a simple for loop \n",
    "  \n",
    "for step in range(5):     \n",
    "    print(step) "
   ]
  },
  {
   "cell_type": "markdown",
   "metadata": {},
   "source": [
    "### Modules\n",
    "\n",
    "Python has a very rich module library that has several functions to do many tasks. \n",
    "\n",
    "####  ‘import’ \n",
    "keyword is used to import a particular module into your python code. For instance consider the following program."
   ]
  },
  {
   "cell_type": "code",
   "execution_count": 10,
   "metadata": {},
   "outputs": [
    {
     "name": "stdout",
     "output_type": "stream",
     "text": [
      "Enter a number: 5\n",
      "5.0\n"
     ]
    }
   ],
   "source": [
    "# Python program to illustrate \n",
    "# math module \n",
    "import math \n",
    "  \n",
    "def Main(): \n",
    "    num = float(input(\"Enter a number: \")) \n",
    "  \n",
    "    # fabs is used to get the absolute value of a decimal \n",
    "    num = math.fabs(num)  \n",
    "    print(num) \n",
    "if __name__==\"__main__\": \n",
    "    Main() "
   ]
  },
  {
   "cell_type": "markdown",
   "metadata": {},
   "source": [
    "### These are some of the most basics of the Python programming language and I will be covering both the intermediate and advanced level Python topics in my upcoming Tutorial."
   ]
  },
  {
   "cell_type": "code",
   "execution_count": null,
   "metadata": {},
   "outputs": [],
   "source": []
  }
 ],
 "metadata": {
  "kernelspec": {
   "display_name": "Python 3",
   "language": "python",
   "name": "python3"
  },
  "language_info": {
   "codemirror_mode": {
    "name": "ipython",
    "version": 3
   },
   "file_extension": ".py",
   "mimetype": "text/x-python",
   "name": "python",
   "nbconvert_exporter": "python",
   "pygments_lexer": "ipython3",
   "version": "3.7.6"
  }
 },
 "nbformat": 4,
 "nbformat_minor": 4
}

{
 "cells": [
  {
   "cell_type": "markdown",
   "metadata": {},
   "source": [
    "# Python – The new generation Language\n",
    "\n",
    "Python designed by Guido van Rossum at CWI has become a widely used general-purpose, high-level programming language.\n",
    "\n",
    "### Reason for increasing popularity\n"
   ]
  },
  {
   "cell_type": "markdown",
   "metadata": {},
   "source": [
    "<ul>\n",
    "    <li>Emphasis on code readability, shorter codes, ease of writing.</li>\n",
    "<li>Programmers can express logical concepts in fewer lines of code in comparison to languages such as C++ or Java.</li>\n",
    "<li>Python supports multiple programming paradigms, like object-oriented, imperative and functional programming or procedural.</li>\n",
    "    <li>There exists inbuilt functions for almost all of the frequently used concepts.</li>\n",
    "    <li>Philosophy is “ Simplicity is the best ”.</li>\n",
    "    </ul>"
   ]
  },
  {
   "cell_type": "markdown",
   "metadata": {},
   "source": [
    "### LANGUAGE FEATURES\n",
    "\n",
    "#### Interpreted\n",
    "<ul>\n",
    "<li>There are no separate compilation and execution steps like C and C++.\n",
    "<li>Directly run the program from the source code.\n",
    "<li>Internally, Python converts the source code into an intermediate form called bytecodes which is then translated into native language of specific computer to run it.\n",
    "<li>No need to worry about linking and loading with libraries, etc.\n",
    "    </ul>\n"
   ]
  },
  {
   "cell_type": "markdown",
   "metadata": {},
   "source": [
    "#### Platform Independent\n",
    "<ul>\n",
    "<li>Python programs can be developed and executed on multiple operating system platforms.\n",
    "<li>Python can be used on Linux, Windows, Macintosh, Solaris and many more.\n",
    "<ul>\n"
   ]
  },
  {
   "cell_type": "markdown",
   "metadata": {},
   "source": [
    "#### free and Open Source and Redistributable\n",
    "\n",
    "#### High-level Language\n",
    "In Python, no need to take care about low-level details such as managing the memory used by the program.\n",
    "#### Simple\n",
    "Closer to English language;Easy to Learn\n",
    "More emphasis on the solution to the problem rather than the syntax\n",
    "#### Embeddable\n",
    "Python can be used within C/C++ program to give scripting capabilities for the program’s users.\n",
    "#### Robust:\n",
    "<ul>\n",
    "    <li>Exceptional handling features</li>\n",
    "    <li>Memory management techniques in built</li>\n",
    "    </ul>\n",
    "    \n",
    "#### Rich Library Support\n",
    "<ul>\n",
    "    <li>The Python Standard Library is vary vast.</li>\n",
    "<li>Known as the “batteries included” philosophy of Python ;It can help do various things involving regular expressions, documentation generation, unit testing, threading, databases, web browsers, CGI, email, XML, HTML, WAV files, cryptography, GUI and many more.</li>\n",
    "<li>Besides the standard library, there are various other high-quality libraries such as the Python Imaging Library which is an amazingly simple image manipulation library.</li>\n",
    "</ul>"
   ]
  },
  {
   "cell_type": "markdown",
   "metadata": {},
   "source": [
    "Currently, there are two versions of Python available Python 2 and Python 3. Many beginners must be wondering with which version of Python they should start. My answer to this question is usually something along the lines “just go with the version your favourite tutorial is written in, and check out the differences later on.”\n",
    "\n",
    "#### Softwares making use of Python\n",
    "\n",
    "Python has been successfully embedded in a number of software products as a scripting language.\n",
    "<ul>\n",
    "<li>GNU Debugger uses Python as a pretty printer to show complex structures such as C++ containers.</li>\n",
    "    <li>Python has also been used in artificial intelligence</li>\n",
    "    <li>Python is often used for natural language processing tasks.</li>\n",
    "    </ul>\n",
    "    \n",
    "#### Current Applications of Python\n",
    "<ul>\n",
    "<li>A number of Linux distributions use installers written in Python example in Ubuntu we have the Ubiquity\n",
    "<li>Python has seen extensive use in the information security industry, including in exploit development.\n",
    "<li>Raspberry Pi– single board computer uses Python as its principal user-programming language.\n",
    "<li>Python is now being used Game Development areas also.    \n",
    "    </ul> \n",
    "    \n",
    "#### Pros:\n",
    "<ul>\n",
    "<li>Ease of use\n",
    "<li>Multi-paradigm Approach\n",
    "  </ul> \n",
    "  \n",
    "#### Cons:\n",
    "<ul>\n",
    "<li>Slow speed of execution compared to C,C++\n",
    "<li>Absence from mobile computing and browsers\n",
    "<li>For the C,C++ programmers switching to python can be irritating as the language requires proper indentation of code. Certain variable names commonly used like sum are functions in python. So C, C++ programmers have to look out for these.    \n",
    "    </ul>"
   ]
  },
  {
   "cell_type": "markdown",
   "metadata": {},
   "source": [
    "#### Industrial Importance\n",
    "\n",
    "Most of the companies are now looking for candidates who know about Python Programming. Those having the knowledge of python may have more chances of impressing the interviewing panel. So I would suggest that beginners should start learning python and excel in it."
   ]
  },
  {
   "cell_type": "markdown",
   "metadata": {},
   "source": [
    "# Namespaces and Scope in Python\n",
    "\n",
    "#### What is namespace:\n",
    "\n",
    "A namespace is a system to have a unique name for each and every object in Python. An object might be a variable or a method. Python itself maintains a namespace in the form of a Python dictionary. Let’s go through an example, a directory-file system structure in computers. Needless to say, that one can have multiple directories having a file with the same name inside of every directory. But one can get directed to the file, one wishes, just by specifying the absolute path to the file.\n",
    "Real-time example, the role of a namespace is like a surname. One might not find a single “Alice” in the class there might be multiple “Alice” but when you particularly ask for “Alice Lee” or “Alice Clark” (with a surname), there will be only one (time being don’t think of both first name and surname are same for multiple students).\n",
    "\n",
    "On the similar lines, Python interpreter understands what exact method or variable one is trying to point to in the code, depending upon the namespace. So, the division of the word itself gives little more information. Its Name (which means name, an unique identifier) + Space(which talks something related to scope). Here, a name might be of any Python method or variable and space depends upon the location from where is trying to access a variable or a method.\n",
    "\n",
    "#### Types of namespaces :\n",
    "\n",
    "When Python interpreter runs solely without and user-defined modules, methods, classes, etc. Some functions like print(), id() are always present, these are built in namespaces. When a user creates a module, a global namespace gets created, later creation of local functions creates the local namespace. The built-in namespace encompasses global namespace and global namespace encompasses local namespace.\n",
    "\n",
    "![](/image/na.png)\n",
    "\n",
    "#### Lifetime of a namespace :\n",
    "\n",
    "A lifetime of a namespace depends upon the scope of objects, if the scope of an object ends, the lifetime of that namespace comes to an end. Hence, it is not possible to access inner namespace’s objects from an outer namespace."
   ]
  },
  {
   "cell_type": "code",
   "execution_count": 1,
   "metadata": {},
   "outputs": [],
   "source": [
    "# var1 is in the global namespace  \n",
    "var1 = 5\n",
    "def some_func(): \n",
    "  \n",
    "    # var2 is in the local namespace  \n",
    "    var2 = 6\n",
    "    def some_inner_func(): \n",
    "  \n",
    "        # var3 is in the nested local  \n",
    "        # namespace \n",
    "        var3 = 7"
   ]
  }
 ],
 "metadata": {
  "kernelspec": {
   "display_name": "Python 3",
   "language": "python",
   "name": "python3"
  },
  "language_info": {
   "codemirror_mode": {
    "name": "ipython",
    "version": 3
   },
   "file_extension": ".py",
   "mimetype": "text/x-python",
   "name": "python",
   "nbconvert_exporter": "python",
   "pygments_lexer": "ipython3",
   "version": "3.7.6"
  }
 },
 "nbformat": 4,
 "nbformat_minor": 4
}

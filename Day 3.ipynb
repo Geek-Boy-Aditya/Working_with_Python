{
 "cells": [
  {
   "cell_type": "markdown",
   "metadata": {},
   "source": [
    "# INPUT - OUTPUT IN PYTHON "
   ]
  },
  {
   "cell_type": "markdown",
   "metadata": {},
   "source": [
    "## Taking input in Python\n",
    "\n",
    "Developers often have a need to interact with users, either to get data or to provide some sort of result. Most programs today use a dialog box as a way of asking the user to provide some type of input. While Python provides us with two inbuilt functions to read the input from the keyboard.\n",
    "<ul>\n",
    "<li>raw_input ( prompt )\n",
    "<li>input ( prompt )\n",
    "    <ul>\n"
   ]
  },
  {
   "cell_type": "markdown",
   "metadata": {},
   "source": [
    "#### raw_input ( ) : \n",
    "This function works in older version (like Python 2.x). This function takes exactly what is typed from the keyboard, convert it to string and then return it to the variable in which we want to store. For example –"
   ]
  },
  {
   "cell_type": "code",
   "execution_count": null,
   "metadata": {},
   "outputs": [],
   "source": [
    "g = raw_input(\"Enter your name : \") \n",
    "print (g)"
   ]
  },
  {
   "cell_type": "markdown",
   "metadata": {},
   "source": [
    "#### input ( ) : \n",
    "\n",
    "This function first takes the input from the user and then evaluates the expression, which means Python automatically identifies whether user entered a string or a number or list. If the input provided is not correct then either syntax error or exception is raised by python. For example –"
   ]
  },
  {
   "cell_type": "code",
   "execution_count": 2,
   "metadata": {},
   "outputs": [
    {
     "name": "stdout",
     "output_type": "stream",
     "text": [
      "Enter your value: Aditya \n",
      "Aditya \n"
     ]
    }
   ],
   "source": [
    "# Python program showing  \n",
    "# a use of input() \n",
    "  \n",
    "val = input(\"Enter your value: \") \n",
    "print(val) "
   ]
  },
  {
   "cell_type": "markdown",
   "metadata": {},
   "source": [
    "#### How the input function works in Python :\n",
    "<ul>\n",
    "<li>When input() function executes program flow will be stopped until the user has given an input.\n",
    "<li>The text or message display on the output screen to ask a user to enter input value is optional i.e. the prompt, will be printed on the screen is optional.\n",
    "    \n",
    "<li>Whatever you enter as input, input function convert it into a string. if you enter an integer value still input() function convert it into a string. You need to explicitly convert it into an integer in your code using typecasting.\n",
    "    </ul>"
   ]
  },
  {
   "cell_type": "code",
   "execution_count": 3,
   "metadata": {},
   "outputs": [
    {
     "name": "stdout",
     "output_type": "stream",
     "text": [
      "Enter number :Aditya\n",
      "Aditya\n",
      "Enter name : Aditya\n",
      "Aditya\n",
      "type of number <class 'str'>\n",
      "type of name <class 'str'>\n"
     ]
    }
   ],
   "source": [
    "# Program to check input  \n",
    "# type in Python \n",
    "  \n",
    "num = input (\"Enter number :\") \n",
    "print(num) \n",
    "name1 = input(\"Enter name : \") \n",
    "print(name1) \n",
    "  \n",
    "# Printing type of input value \n",
    "print (\"type of number\", type(num)) \n",
    "print (\"type of name\", type(name1)) \n"
   ]
  },
  {
   "cell_type": "markdown",
   "metadata": {},
   "source": [
    "## Taking input from console in Python"
   ]
  },
  {
   "cell_type": "markdown",
   "metadata": {},
   "source": [
    "What is Console in Python? Console (also called Shell) is basically a command line interpreter that takes input from the user i.e one command at a time and interprets it. If it is error free then it runs the command and gives required output otherwise shows the error message."
   ]
  },
  {
   "cell_type": "markdown",
   "metadata": {},
   "source": [
    "#### Accepting Input from Console\n",
    "User enters the values in the Console and that value is then used in the program as it was required.\n",
    "To take input from the user we make use of a built-in function input()."
   ]
  },
  {
   "cell_type": "code",
   "execution_count": 4,
   "metadata": {},
   "outputs": [
    {
     "name": "stdout",
     "output_type": "stream",
     "text": [
      "10\n",
      "10\n"
     ]
    }
   ],
   "source": [
    "# input \n",
    "input1 = input() \n",
    "  \n",
    "# output \n",
    "print(input1) "
   ]
  },
  {
   "cell_type": "markdown",
   "metadata": {},
   "source": [
    "#### Typecasting\n",
    "You can also type cast this input to integer, float or string by specifying the input() function inside the type.\n",
    "\n",
    "#### 1.Typecasting the input to Integer: \n",
    "\n",
    "There might be conditions when you might require integer input from user/Console, the following code takes two input(integer/float) from console and typecasts them to integer then prints the sum."
   ]
  },
  {
   "cell_type": "code",
   "execution_count": 5,
   "metadata": {},
   "outputs": [
    {
     "name": "stdout",
     "output_type": "stream",
     "text": [
      "5 \n",
      "5\n",
      "10\n"
     ]
    }
   ],
   "source": [
    "# input \n",
    "num1 = int(input()) \n",
    "num2 = int(input()) \n",
    "  \n",
    "# printing the sum in integer \n",
    "print(num1 + num2) "
   ]
  },
  {
   "cell_type": "markdown",
   "metadata": {},
   "source": [
    "#### 2.Typecasting the input to Float: \n",
    "To convert the input to float the following code will work out."
   ]
  },
  {
   "cell_type": "code",
   "execution_count": 6,
   "metadata": {},
   "outputs": [
    {
     "name": "stdout",
     "output_type": "stream",
     "text": [
      "5.5\n",
      "8\n",
      "13.5\n"
     ]
    }
   ],
   "source": [
    "# input \n",
    "num1 = float(input()) \n",
    "num2 = float(input()) \n",
    "  \n",
    "# printing the sum in float \n",
    "print(num1 + num2) "
   ]
  },
  {
   "cell_type": "markdown",
   "metadata": {},
   "source": [
    "#### Typecasting the input to String:\n",
    "All kind of input can be converted to string type whether they are float or integer. We make use of keyword str for typecasting."
   ]
  },
  {
   "cell_type": "code",
   "execution_count": 7,
   "metadata": {},
   "outputs": [
    {
     "name": "stdout",
     "output_type": "stream",
     "text": [
      "aditya\n",
      "aditya\n"
     ]
    }
   ],
   "source": [
    "# input \n",
    "string = str(input()) \n",
    "  \n",
    "# output \n",
    "print(string) "
   ]
  },
  {
   "cell_type": "markdown",
   "metadata": {},
   "source": [
    "## Taking multiple inputs from user in Python\n",
    "\n",
    "Developer often wants a user to enter multiple values or inputs in one line. In C++/C user can take multiple inputs in one line using scanf but in Python user can take multiple values or inputs in one line by two methods.\n",
    "<ul>\n",
    "<li>Using split() method\n",
    "<li>Using List comprehension\n",
    " </ul>   "
   ]
  },
  {
   "cell_type": "markdown",
   "metadata": {},
   "source": [
    "#### Using split() method :\n",
    "This function helps in getting a multiple inputs from user . It breaks the given input by the specified separator. If separator is not provided then any white space is a separator. Generally, user use a split() method to split a Python string but one can used it in taking multiple input."
   ]
  },
  {
   "cell_type": "code",
   "execution_count": 9,
   "metadata": {},
   "outputs": [
    {
     "name": "stdout",
     "output_type": "stream",
     "text": [
      "Enter a two value: 5 5\n",
      "Number of boys:  5\n",
      "Number of girls:  5\n",
      "\n",
      "Enter a three value:  8 8 7\n",
      "Total number of students:  8\n",
      "Number of boys is :  8\n",
      "Number of girls is :  7\n",
      "\n",
      "Enter a two value:  5 5\n",
      "First number is 5 and second number is 5\n",
      "\n",
      "Enter a multiple value:  8 8 8  8\n",
      "List of students:  [8, 8, 8, 8]\n"
     ]
    }
   ],
   "source": [
    "# Python program showing how to \n",
    "# multiple input using split \n",
    "  \n",
    "# taking two inputs at a time \n",
    "x, y = input(\"Enter a two value: \").split() \n",
    "print(\"Number of boys: \", x) \n",
    "print(\"Number of girls: \", y) \n",
    "print() \n",
    "  \n",
    "# taking three inputs at a time \n",
    "x, y, z = input(\"Enter a three value: \").split() \n",
    "print(\"Total number of students: \", x) \n",
    "print(\"Number of boys is : \", y) \n",
    "print(\"Number of girls is : \", z) \n",
    "print() \n",
    "  \n",
    "# taking two inputs at a time \n",
    "a, b = input(\"Enter a two value: \").split() \n",
    "print(\"First number is {} and second number is {}\".format(a, b)) \n",
    "print() \n",
    "  \n",
    "# taking multiple inputs at a time  \n",
    "# and type casting using list() function \n",
    "x = list(map(int, input(\"Enter a multiple value: \").split())) \n",
    "print(\"List of students: \", x) \n"
   ]
  },
  {
   "cell_type": "markdown",
   "metadata": {},
   "source": [
    " \n",
    "#### Using List comprehension :\n",
    "List comprehension is an elegant way to define and create list in Python. We can create lists just like mathematical statements in one line only. It is also used in getting multiple inputs from a user."
   ]
  },
  {
   "cell_type": "code",
   "execution_count": null,
   "metadata": {},
   "outputs": [],
   "source": [
    "x, y = [int(x) for x in input(\"Enter two value: \").split()] \n",
    "print(\"First Number is: \", x) \n",
    "print(\"Second Number is: \", y) \n",
    "print() \n",
    "  \n",
    "# taking three input at a time \n",
    "x, y, z = [int(x) for x in input(\"Enter three value: \").split()] \n",
    "print(\"First Number is: \", x) \n",
    "print(\"Second Number is: \", y) \n",
    "print(\"Third Number is: \", z) \n",
    "print() \n",
    "  \n",
    "# taking two inputs at a time \n",
    "x, y = [int(x) for x in input(\"Enter two value: \").split()] \n",
    "print(\"First number is {} and second number is {}\".format(x, y)) \n",
    "print() \n",
    "  \n",
    "# taking multiple inputs at a time  \n",
    "x = [int(x) for x in input(\"Enter multiple value: \").split()] \n",
    "print(\"Number of list is: \", x)  \n"
   ]
  },
  {
   "cell_type": "markdown",
   "metadata": {},
   "source": [
    "### Python end parameter in print()\n",
    "By default python’s print() function ends with a newline. A programmer with C/C++ background may wonder how to print without newline.\n",
    "\n",
    "Python’s print() function comes with a parameter called ‘end’. By default, the value of this parameter is ‘\\n’, i.e. the new line character. You can end a print statement with any character/string using this parameter."
   ]
  },
  {
   "cell_type": "code",
   "execution_count": 12,
   "metadata": {},
   "outputs": [
    {
     "name": "stdout",
     "output_type": "stream",
     "text": [
      "Welcome to_ GeeksforGeeks "
     ]
    }
   ],
   "source": [
    "# This Python program must be run with \n",
    "# Python 3 as it won't work with 2.7. \n",
    "  \n",
    "# ends the output with a <space>  \n",
    "print(\"Welcome to\" , end = ' ')  \n",
    "print(\"GeeksforGeeks\", end = ' ') "
   ]
  },
  {
   "cell_type": "code",
   "execution_count": 10,
   "metadata": {},
   "outputs": [
    {
     "name": "stdout",
     "output_type": "stream",
     "text": [
      "Python@GeeksforGeeks\n"
     ]
    }
   ],
   "source": [
    "# This Python program must be run with \n",
    "# Python 3 as it won't work with 2.7. \n",
    "  \n",
    "# ends the output with '@' \n",
    "print(\"Python\" , end = '@')  \n",
    "print(\"GeeksforGeeks\") "
   ]
  },
  {
   "cell_type": "markdown",
   "metadata": {},
   "source": [
    "### Python | sep parameter in print()\n",
    "The separator between the arguments to print() function in Python is space by default (softspace feature) , which can be modified and can be made to any character, integer or string as per our choice. The ‘sep’ parameter is used to achieve the same, it is found only in python 3.x or later. It is also used for formatting the output strings."
   ]
  },
  {
   "cell_type": "code",
   "execution_count": 13,
   "metadata": {},
   "outputs": [
    {
     "name": "stdout",
     "output_type": "stream",
     "text": [
      "GFG\n",
      "09-12-2016\n",
      "pratik@geeksforgeeks\n"
     ]
    }
   ],
   "source": [
    "#code for disabling the softspace feature \n",
    "print('G','F','G', sep='') \n",
    "  \n",
    "#for formatting a date \n",
    "print('09','12','2016', sep='-') \n",
    "  \n",
    "#another example \n",
    "print('pratik','geeksforgeeks', sep='@') \n"
   ]
  },
  {
   "cell_type": "markdown",
   "metadata": {},
   "source": [
    "\n",
    "The sep parameter when used with end parameter it produces awesome results. Some examples by combining the sep and end parameter.\n",
    "\n"
   ]
  },
  {
   "cell_type": "code",
   "execution_count": 14,
   "metadata": {},
   "outputs": [
    {
     "name": "stdout",
     "output_type": "stream",
     "text": [
      "GFG\n",
      "09-12-2016\n",
      "prtkagarwal@geeksforgeeks\n"
     ]
    }
   ],
   "source": [
    "print('G','F', sep='', end='') \n",
    "print('G') \n",
    "#\\n provides new line after printing the year \n",
    "print('09','12', sep='-', end='-2016\\n') \n",
    "  \n",
    "print('prtk','agarwal', sep='', end='@') \n",
    "print('geeksforgeeks') "
   ]
  },
  {
   "cell_type": "code",
   "execution_count": null,
   "metadata": {},
   "outputs": [],
   "source": []
  }
 ],
 "metadata": {
  "kernelspec": {
   "display_name": "Python 3",
   "language": "python",
   "name": "python3"
  },
  "language_info": {
   "codemirror_mode": {
    "name": "ipython",
    "version": 3
   },
   "file_extension": ".py",
   "mimetype": "text/x-python",
   "name": "python",
   "nbconvert_exporter": "python",
   "pygments_lexer": "ipython3",
   "version": "3.7.6"
  }
 },
 "nbformat": 4,
 "nbformat_minor": 4
}
